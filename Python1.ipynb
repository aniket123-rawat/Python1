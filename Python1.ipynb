{
  "nbformat": 4,
  "nbformat_minor": 0,
  "metadata": {
    "colab": {
      "provenance": []
    },
    "kernelspec": {
      "name": "python3",
      "display_name": "Python 3"
    },
    "language_info": {
      "name": "python"
    }
  },
  "cells": [
    {
      "cell_type": "markdown",
      "metadata": {
        "id": "8f66bec1"
      },
      "source": [
        "# Python"
      ]
    },
    {
      "cell_type": "markdown",
      "metadata": {
        "id": "5aef3305"
      },
      "source": [
        "1. What is Python, and why is it popular ?\n",
        "   \n",
        "   Ans-- Python is an interpreted, highlevel programming language.\n",
        "It was invented by Guido Van Rosssum, and it was released in the year 1991.\n",
        "Python is popular because of the following:\n",
        "   1. versatality\n",
        "   2. simplicity\n",
        "   3. readability\n",
        "   4. cross-platform compatability.   "
      ]
    },
    {
      "cell_type": "markdown",
      "metadata": {
        "id": "d4692515"
      },
      "source": [
        "2. What is an Interpreter in Python ?\n",
        "   \n",
        "   Ans--  An interpreter translates and executes the source code line by line or instruction by instruction during runtime in programming. Unlike compiler that translates the entire source code in machine code at once."
      ]
    },
    {
      "cell_type": "markdown",
      "metadata": {
        "id": "2bac4ca1"
      },
      "source": [
        "3. What are the pre-defined keywords in python ?\n",
        "   \n",
        "   Ans--  Pre-defined keywords in python are reserved words within a programming language that have specific, fixed meanings and purpose, and they can not be used by programmers for other purposes such as naming variables, functions, classes, and other identifiers.\n",
        "   \n",
        "   for example -- if, else, None, True, etc."
      ]
    },
    {
      "cell_type": "markdown",
      "metadata": {
        "id": "286d0827"
      },
      "source": [
        "4. Can keywords be used as naming variables ?\n",
        "\n",
        "    Ans-- Keywords can not be used for naming variables, because these keywords in programming language are reserved words that have specific, fixed meanings and purposes and can not be used for any other purposes."
      ]
    },
    {
      "cell_type": "markdown",
      "source": [
        "   5. What is mutability in Python ?\n",
        "\n",
        "    Ans-- In Python, mutability refers to the ability of an object to be modified after it has been created. If an object is mutable, its internal state or value can be changed without creating a new object in memory.\n"
      ],
      "metadata": {
        "id": "x8Ipqv8I4v3V"
      }
    },
    {
      "cell_type": "markdown",
      "source": [
        "  6. Why are lists mutable, but tuples are immutable ?\n",
        "\n",
        "    Ans--  Lists are mutable because they are designed to be dynamic and flexible containers. Mutability allows them for efficient addition, removal, and modification of element without creating a new list.\n",
        "\n",
        "     Tuples are immutable because they are in defined order and suitable for storing data that should not change, such as configuration and fixed records.\n",
        "     "
      ],
      "metadata": {
        "id": "D2eEs2iV9nAx"
      }
    },
    {
      "cell_type": "markdown",
      "source": [
        "   7. What is the differnce between \" == \" operator and \" is \" operator in Python ?\n",
        "\n",
        "     Ans--  \" == \" is equality operator that compares the value of two objects. It check if the content hold by the object are same or not.\n"
      ],
      "metadata": {
        "id": "bX9QjQwM--nd"
      }
    },
    {
      "cell_type": "code",
      "source": [
        "#example of \"==\" operator\n",
        "\n",
        "list1 = [ 1, 2, 3]\n",
        "list2 = [ 1, 2, 3]\n",
        "print(list1 == list2)"
      ],
      "metadata": {
        "colab": {
          "base_uri": "https://localhost:8080/"
        },
        "id": "Ce0m8Hu7AXGz",
        "outputId": "82e235bf-6cfe-4168-a952-01cd55344260"
      },
      "execution_count": null,
      "outputs": [
        {
          "output_type": "stream",
          "name": "stdout",
          "text": [
            "True\n"
          ]
        }
      ]
    },
    {
      "cell_type": "code",
      "source": [
        "#example of \"is\" operator\n",
        "\n",
        "list1 = [ 1, 2, 3]\n",
        "list2 = list1\n",
        "list3 = [ 1, 2, 3]\n",
        "print(list1 is list2)\n",
        "print(list1 is list3)"
      ],
      "metadata": {
        "colab": {
          "base_uri": "https://localhost:8080/"
        },
        "id": "V41yJJY9BWJY",
        "outputId": "d8954a95-22de-4302-9cef-b9b5adf0f9ce"
      },
      "execution_count": null,
      "outputs": [
        {
          "output_type": "stream",
          "name": "stdout",
          "text": [
            "True\n",
            "False\n"
          ]
        }
      ]
    },
    {
      "cell_type": "markdown",
      "source": [
        "   8. What are Logical operators in Python ?\n",
        "\n",
        "    Ans--  Logical operators in Python are used to combine conditional statements and evaluate expressions based on multiple conditions. They return a Boolean value, either True or False.\n",
        "      They are three in numbers:\n",
        "       1.  'and' operator\n",
        "       2.  'or' operator\n",
        "       3.  'not' operator."
      ],
      "metadata": {
        "id": "zxbofZW6Clqo"
      }
    },
    {
      "cell_type": "markdown",
      "source": [
        "  9. What is type casting in Python ?\n",
        "\n",
        "   Ans--  Type casting also known as Type conversion is the process of changing a variable from one type to another. This can be done automatically by the compiler or manually by the programmer.\n",
        "   There are two type of type casting:\n",
        "     1. Implicit type casting\n",
        "     2. Explicit type casting."
      ],
      "metadata": {
        "id": "xMw-9u80JaxE"
      }
    },
    {
      "cell_type": "markdown",
      "source": [
        "   10. What is the difference between implicit and explicit type casting ?\n",
        "\n",
        "     Ans--  Implicit type casting ( automatic ) occurs when the compiler can safely convert a data type to another without data loss where as\n",
        "         Explicit type casting ( manual )  requires programmer to explicitly tell the compiler to convert a data type often when there is potential for data loss.\n",
        "        "
      ],
      "metadata": {
        "id": "lx6iz41MKrxt"
      }
    },
    {
      "cell_type": "markdown",
      "source": [
        "  11. What is the purpose of conditionals statement in Python ?\n",
        "\n",
        "    Ans--  The purpose of conditional statements in Python is for controlling the flow of execution, decision making, handling different scenarios, error handling and validiation  using ( \"if\", \"else\", \"elif\" )"
      ],
      "metadata": {
        "id": "DrohOvRxNBpH"
      }
    },
    {
      "cell_type": "code",
      "source": [
        " score = 85\n",
        "\n",
        "\n",
        "if score >= 90:\n",
        "    print(\"Grade: A\")\n",
        "elif score >= 80:\n",
        "    print(\"Grade: B\")\n",
        "elif score >= 70:\n",
        "    print(\"Grade: C\")\n",
        "else:\n",
        "    print(\"Grade: D\")"
      ],
      "metadata": {
        "colab": {
          "base_uri": "https://localhost:8080/"
        },
        "id": "U0wtfZg8OXgl",
        "outputId": "b59513f5-3528-47dd-8643-53cfebcf5722"
      },
      "execution_count": null,
      "outputs": [
        {
          "output_type": "stream",
          "name": "stdout",
          "text": [
            "Grade: B\n"
          ]
        }
      ]
    },
    {
      "cell_type": "markdown",
      "source": [
        "  12. How does the elif statement work ?\n",
        "\n",
        "   Ans--  (elif) statement short for \"else if\" is used in conjuction with an (if) statement to evaluate multiple conditions sequentially."
      ],
      "metadata": {
        "id": "RZ0bWLuoQAct"
      }
    },
    {
      "cell_type": "code",
      "source": [
        "score = 85\n",
        "\n",
        "\n",
        "if score >= 90:\n",
        "    print(\"Grade: A\")\n",
        "elif score >= 80:\n",
        "    print(\"Grade: B\")\n",
        "elif score >= 70:\n",
        "    print(\"Grade: C\")\n",
        "else:\n",
        "    print(\"Grade: D\")"
      ],
      "metadata": {
        "colab": {
          "base_uri": "https://localhost:8080/"
        },
        "id": "2vVnsrGxRAHA",
        "outputId": "b602d24a-754a-4109-f006-fc9cb895ef9c"
      },
      "execution_count": null,
      "outputs": [
        {
          "output_type": "stream",
          "name": "stdout",
          "text": [
            "Grade: B\n"
          ]
        }
      ]
    },
    {
      "cell_type": "markdown",
      "source": [
        "  13. What is the difference between for and while loop?\n",
        "\n",
        "    Ans- The fundamental difference between for and while loops lies in their primary use cases and how they handle iteration control. \"for\" loop (definite iteration) is used when the number of iterations in known in advance or when iterating over a sequence (like a list, array, or string).\n",
        "    \"while\" loop (indefinite iteration) is used when the number of iteration is unknown and the loop needs to continue as long as a specific condition remains true.\n"
      ],
      "metadata": {
        "id": "hHjsY9dZJlIK"
      }
    },
    {
      "cell_type": "markdown",
      "source": [
        "  14. Describe a scenario where a while loop is more suitable than a for loop?\n",
        "\n",
        "    Ans-- A while loop is more suitable than a for loop when you don't know in advance how many times you need to loop. This is often the case when you are waiting for a specific condition to be met, or when dealing with user input that needs to be validated."
      ],
      "metadata": {
        "id": "E60XzBM7MEFS"
      }
    },
    {
      "cell_type": "code",
      "metadata": {
        "colab": {
          "base_uri": "https://localhost:8080/"
        },
        "id": "c63b3ee9",
        "outputId": "f64fc9fe-5c62-48a3-aec0-38d7f2f64095"
      },
      "source": [
        "num = -1  # Initialize with a non-positive number\n",
        "\n",
        "while num <= 0:\n",
        "  try:\n",
        "    num = int(input(\"Enter a positive number: \"))\n",
        "    if num <= 0:\n",
        "      print(\"That's not a positive number. Try again.\")\n",
        "  except ValueError:\n",
        "    print(\"Invalid input. Please enter an integer.\")\n",
        "\n",
        "print(f\"You entered a positive number: {num}\")"
      ],
      "execution_count": null,
      "outputs": [
        {
          "output_type": "stream",
          "name": "stdout",
          "text": [
            "Enter a positive number: 10\n",
            "You entered a positive number: 10\n"
          ]
        }
      ]
    },
    {
      "cell_type": "markdown",
      "source": [
        "# ***# Practical Questions:- ***\n"
      ],
      "metadata": {
        "id": "NBqj9jISNgMO"
      }
    },
    {
      "cell_type": "markdown",
      "source": [
        "   1.  Write a Python program to print \"Hello, World!\"."
      ],
      "metadata": {
        "id": "UuGKJ49aOCH0"
      }
    },
    {
      "cell_type": "code",
      "source": [
        "print(\"Hello, World!\")"
      ],
      "metadata": {
        "colab": {
          "base_uri": "https://localhost:8080/"
        },
        "id": "Q6tduXONOtBm",
        "outputId": "14ac69a2-77a8-4cb7-e8c6-f65f5c6992fc"
      },
      "execution_count": null,
      "outputs": [
        {
          "output_type": "stream",
          "name": "stdout",
          "text": [
            "Hello, World!\n"
          ]
        }
      ]
    },
    {
      "cell_type": "markdown",
      "source": [
        "   2. Write a Python program that displays your name and age."
      ],
      "metadata": {
        "id": "-zSDpUSzO6Ev"
      }
    },
    {
      "cell_type": "code",
      "source": [
        "name = input(\"Enter your name: \")\n",
        "age = input(\"Enter your age: \")\n",
        "print(f\"Your name is {name} and your age is {age}\")\n"
      ],
      "metadata": {
        "colab": {
          "base_uri": "https://localhost:8080/"
        },
        "id": "JsY2IdKWF3xD",
        "outputId": "be70916f-af74-4282-dbb2-248db17416be"
      },
      "execution_count": null,
      "outputs": [
        {
          "output_type": "stream",
          "name": "stdout",
          "text": [
            "Enter your name:  Aniket Rawat\n",
            "Enter your age: 25\n",
            "Your name is  Aniket Rawat and your age is 25\n"
          ]
        }
      ]
    },
    {
      "cell_type": "markdown",
      "source": [
        "  3. Write a code to print all the pre-defined keywords in python using keyword library."
      ],
      "metadata": {
        "id": "ICQmo4VcP1dG"
      }
    },
    {
      "cell_type": "code",
      "source": [
        "import keyword\n",
        "\n",
        "print(keyword.kwlist)"
      ],
      "metadata": {
        "colab": {
          "base_uri": "https://localhost:8080/"
        },
        "id": "MvWxBVi4QJVd",
        "outputId": "14566e24-f7f2-40a2-8731-44f28aa4e670"
      },
      "execution_count": null,
      "outputs": [
        {
          "output_type": "stream",
          "name": "stdout",
          "text": [
            "['False', 'None', 'True', 'and', 'as', 'assert', 'async', 'await', 'break', 'class', 'continue', 'def', 'del', 'elif', 'else', 'except', 'finally', 'for', 'from', 'global', 'if', 'import', 'in', 'is', 'lambda', 'nonlocal', 'not', 'or', 'pass', 'raise', 'return', 'try', 'while', 'with', 'yield']\n"
          ]
        }
      ]
    },
    {
      "cell_type": "markdown",
      "source": [
        "  4. Write a program that checks if a given word is python keyword."
      ],
      "metadata": {
        "id": "SJAv51YjQdA4"
      }
    },
    {
      "cell_type": "code",
      "source": [
        "import keyword\n",
        "\n",
        "word = input(\"Enter a word: \")\n",
        "\n",
        "if keyword.iskeyword(word):\n",
        "    print(f\"'{word}' is a Python keyword.\")\n",
        "else:\n",
        "    print(f\"'{word}' is not a Python keyword.\")"
      ],
      "metadata": {
        "colab": {
          "base_uri": "https://localhost:8080/"
        },
        "id": "-Rf-R4YsRvwW",
        "outputId": "2f2e429f-a6c5-4dd0-eab7-135441782834"
      },
      "execution_count": null,
      "outputs": [
        {
          "output_type": "stream",
          "name": "stdout",
          "text": [
            "Enter a word: None\n",
            "'None' is a Python keyword.\n"
          ]
        }
      ]
    },
    {
      "cell_type": "markdown",
      "source": [
        "  5. Create a list and tuple in Python, and demonstrate how attempting to change an element works differently\n",
        "for each."
      ],
      "metadata": {
        "id": "LQ4d4EV4SSUO"
      }
    },
    {
      "cell_type": "code",
      "source": [
        "# lists are mutable and tuples are immutable , so we can not modify tuples.\n",
        "# create a list\n",
        "my_list = [1, 2, 3, 4, 5]\n",
        "print(\"original list:\", my_list)\n",
        "\n",
        "# attempt to change an element in list\n",
        "my_list[4] = 12\n",
        "print(\"modified list:\", my_list)"
      ],
      "metadata": {
        "colab": {
          "base_uri": "https://localhost:8080/"
        },
        "id": "KMNenQEJOVVn",
        "outputId": "229ee212-7877-4a2d-9712-26cf77d76e73"
      },
      "execution_count": null,
      "outputs": [
        {
          "output_type": "stream",
          "name": "stdout",
          "text": [
            "original list: [1, 2, 3, 4, 5]\n",
            "modified list: [1, 2, 3, 4, 12]\n"
          ]
        }
      ]
    },
    {
      "cell_type": "code",
      "source": [
        "# create a tuple\n",
        "my_tuple = (1, 2, 3, 4, 5, 6)\n",
        "print(\"original tuple:\", my_tuple)\n",
        "\n",
        "\n",
        "# attempt to change a element in tuple,\n",
        "# but tuples are immutable so they cannot be modified\n",
        "# hence it will show error\n",
        "\n",
        "my_tuple[5] = 16\n",
        "print(\"modified tuple:\", my tuple)"
      ],
      "metadata": {
        "colab": {
          "base_uri": "https://localhost:8080/",
          "height": 106
        },
        "id": "jRgNMu8DRCLc",
        "outputId": "f4a281e7-d146-4aa7-b6dc-6b7420fae878"
      },
      "execution_count": null,
      "outputs": [
        {
          "output_type": "error",
          "ename": "SyntaxError",
          "evalue": "invalid syntax. Perhaps you forgot a comma? (ipython-input-1672555230.py, line 11)",
          "traceback": [
            "\u001b[0;36m  File \u001b[0;32m\"/tmp/ipython-input-1672555230.py\"\u001b[0;36m, line \u001b[0;32m11\u001b[0m\n\u001b[0;31m    print(\"modified tuple:\", my tuple)\u001b[0m\n\u001b[0m                             ^\u001b[0m\n\u001b[0;31mSyntaxError\u001b[0m\u001b[0;31m:\u001b[0m invalid syntax. Perhaps you forgot a comma?\n"
          ]
        }
      ]
    },
    {
      "cell_type": "markdown",
      "source": [
        "6. Write a function to demonstrate the behavior of mutable and immutable arguments."
      ],
      "metadata": {
        "id": "5wS-PjHkaX0H"
      }
    },
    {
      "cell_type": "code",
      "metadata": {
        "colab": {
          "base_uri": "https://localhost:8080/"
        },
        "id": "3ea22072",
        "outputId": "e0278864-1dca-4511-c45f-c56f18b15d3e"
      },
      "source": [
        "def demonstrate_mutability(mutable_list, immutable_int):\n",
        "  \"\"\"Demonstrates how mutable and immutable arguments behave in a function.\"\"\"\n",
        "  print(f\"Inside function - Before modification:\")\n",
        "  print(f\"  Mutable list: {mutable_list}\")\n",
        "  print(f\"  Immutable integer: {immutable_int}\")\n",
        "\n",
        "  # Modify the mutable argument (list)\n",
        "  mutable_list.append(4)\n",
        "  mutable_list[0] = 99\n",
        "\n",
        "  # Attempt to modify the immutable argument (integer) - creates a new object\n",
        "  immutable_int = immutable_int + 1\n",
        "\n",
        "  print(f\"Inside function - After modification:\")\n",
        "  print(f\"  Mutable list: {mutable_list}\")\n",
        "  print(f\"  Immutable integer: {immutable_int}\")\n",
        "\n",
        "# Create outside the function\n",
        "my_list = [1, 2, 3]\n",
        "my_int = 10\n",
        "\n",
        "print(f\"Outside function - Before function call:\")\n",
        "print(f\"  Mutable list: {my_list}\")\n",
        "print(f\"  Immutable integer: {my_int}\")\n",
        "\n",
        "demonstrate_mutability(my_list, my_int)\n",
        "\n",
        "print(f\"Outside function - After function call:\")\n",
        "print(f\"  Mutable list: {my_list}\")\n",
        "print(f\"  Immutable integer: {my_int}\")"
      ],
      "execution_count": null,
      "outputs": [
        {
          "output_type": "stream",
          "name": "stdout",
          "text": [
            "Outside function - Before function call:\n",
            "  Mutable list: [1, 2, 3]\n",
            "  Immutable integer: 10\n",
            "Inside function - Before modification:\n",
            "  Mutable list: [1, 2, 3]\n",
            "  Immutable integer: 10\n",
            "Inside function - After modification:\n",
            "  Mutable list: [99, 2, 3, 4]\n",
            "  Immutable integer: 11\n",
            "Outside function - After function call:\n",
            "  Mutable list: [99, 2, 3, 4]\n",
            "  Immutable integer: 10\n"
          ]
        }
      ]
    },
    {
      "cell_type": "markdown",
      "source": [
        "7. Write a program that performs basic arithmetic operations on two user-input numbers"
      ],
      "metadata": {
        "id": "WNIwSauPaymy"
      }
    },
    {
      "cell_type": "code",
      "source": [
        "number1 = float(input(\"enter the first number:\"))\n",
        "number2 = float(input(\"enter the second number:\"))\n",
        "\n",
        "print(f\"addition of {number1} and {number2} is {number1 + number2}\")\n",
        "print(f\"subtraction of {number1} and {number2} is {number1 - number2}\")\n",
        "print(f\"multiplication of {number1} and {number2} is {number1 * number2}\")\n",
        "\n"
      ],
      "metadata": {
        "colab": {
          "base_uri": "https://localhost:8080/"
        },
        "id": "y-jdl2DNa6F6",
        "outputId": "59c87ea2-82ae-4d32-a2ed-facaf21cb759"
      },
      "execution_count": null,
      "outputs": [
        {
          "output_type": "stream",
          "name": "stdout",
          "text": [
            "enter the first number:1000\n",
            "enter the second number:20\n",
            "addition of 1000.0 and 20.0 is 1020.0\n",
            "subtraction of 1000.0 and 20.0 is 980.0\n",
            "multiplication of 1000.0 and 20.0 is 20000.0\n"
          ]
        }
      ]
    },
    {
      "cell_type": "markdown",
      "source": [
        "8. Write a program to demonstrate the use of logical operators."
      ],
      "metadata": {
        "id": "9lNdWMeleP-D"
      }
    },
    {
      "cell_type": "code",
      "source": [
        "# use of logical operators\n",
        "# demonstrate 'and' operator\n",
        "a = 10\n",
        "b = 20\n",
        "print(f\"using : 'and' operator\")\n",
        "print(f\" {a} > 5 and {b} < 25 is {a > 5 and b < 25}\")\n",
        "print(f\" {a} > 5 and {b} > 25 is {a > 5 and b > 25}\")\n",
        "print(\"\\nusing 'or' operator:\")\n",
        "# using 'or' operator\n",
        "z = 5\n",
        "print(f\"{z} < 10 or {z} > 100 is {z < 10 or z > 100}\")\n",
        "print(f\"{z} > 10 or {z} > 100 is {z > 10 or z > 100}\")\n",
        "print(\"\\nusing not operator:\")\n",
        "\n",
        "is_active = False\n",
        "print(f\"not {is_active} is {not is_active}\")\n",
        "is_logged_in = True\n",
        "print(f\"not {is_logged_in} is {not is_logged_in}\")\n",
        "\n",
        "\n",
        "\n"
      ],
      "metadata": {
        "colab": {
          "base_uri": "https://localhost:8080/"
        },
        "id": "_sGBLuWTeRe5",
        "outputId": "1b95370f-9bb1-4ee3-ac4d-cafb17894eac"
      },
      "execution_count": null,
      "outputs": [
        {
          "output_type": "stream",
          "name": "stdout",
          "text": [
            "using : 'and' operator\n",
            " 10 > 5 and 20 < 25 is True\n",
            " 10 > 5 and 20 > 25 is False\n",
            "\n",
            "using 'or' operator:\n",
            "5 < 10 or 5 > 100 is True\n",
            "5 > 10 or 5 > 100 is False\n",
            "\n",
            "using not operator:\n",
            "not False is True\n",
            "not True is False\n"
          ]
        }
      ]
    },
    {
      "cell_type": "markdown",
      "source": [
        "9. Write a Python program to convert user input from string to integer, float, and boolean types."
      ],
      "metadata": {
        "id": "mvNxropLkUdI"
      }
    },
    {
      "cell_type": "code",
      "source": [
        "user_input = input(\"Enter a value: \")\n",
        "\n",
        "# convert to integer\n",
        "try:\n",
        "  int_value = int(user_input)\n",
        "  print(f\"Converted to integer: {int_value} (type: {type(int_value)})\")\n",
        "except ValueError:\n",
        "  print(f\"Could not convert '{user_input}' to integer.\")\n",
        "\n",
        "# convert to float\n",
        "try:\n",
        "  float_value = float(user_input)\n",
        "  print(f\"Converted to float: {float_value} (type: {type(float_value)})\")\n",
        "except ValueError:\n",
        "  print(f\"Could not convert '{user_input}' to float.\")\n",
        "\n",
        "# converted to boolean ( check if True or False)\n",
        "if user_input.lower() == 'true':\n",
        "  bool_value = True\n",
        "  print(f\"Converted to boolean: {bool_value} (type: {type(bool_value)})\")\n",
        "elif user_input.lower() == 'false':\n",
        "    bool_value = False\n",
        "    print(f\"Converted to boolean: {bool_value} (type: {type(bool_value)})\")\n",
        "else:\n",
        "      print(f\"Could not convert '{user_input}' to boolean using simple 'True'/'False' check.\")\n"
      ],
      "metadata": {
        "colab": {
          "base_uri": "https://localhost:8080/"
        },
        "id": "TtTIlbl9tv2o",
        "outputId": "62978ffe-e21f-4d8e-cab0-5d24464f084c"
      },
      "execution_count": null,
      "outputs": [
        {
          "output_type": "stream",
          "name": "stdout",
          "text": [
            "Enter a value: 123\n",
            "Converted to integer: 123 (type: <class 'int'>)\n",
            "Converted to float: 123.0 (type: <class 'float'>)\n",
            "Could not convert '123' to boolean using simple 'True'/'False' check.\n"
          ]
        }
      ]
    },
    {
      "cell_type": "markdown",
      "source": [
        "10. Write code to demonstrate type casting with list elements."
      ],
      "metadata": {
        "id": "bfYW_sqBvi86"
      }
    },
    {
      "cell_type": "code",
      "source": [
        "# Create a list with elements of different types\n",
        "my_list = [\"123\", 45.67, \"True\", 100]\n",
        "print(f\"Original list: {my_list}\")\n",
        "\n",
        "# Demonstrate type casting on list elements\n",
        "# Convert the first element (string) to integer\n",
        "\n",
        "try:\n",
        "  int_element = int(my_list[0])\n",
        "  print(f\"Converted first element to integer: {int_element} (type: {type(int_element)})\")\n",
        "except ValueError:\n",
        "  print(f\"Could not convert '{my_list[0]}' to integer.\")\n",
        "\n",
        "# Convert the second element (float) to integer\n",
        "int_element_from_float = int(my_list[1])\n",
        "print(f\"Converted second element (float) to integer: {int_element_from_float} (type: {type(int_element_from_float)})\")\n",
        "\n",
        "# Convert the third element (string) to boolean (simple check)\n",
        "bool_element = my_list[2].lower() == 'true'\n",
        "print(f\"Converted third element (string) to boolean: {bool_element} (type: {type(bool_element)})\")\n",
        "\n",
        "# Convert the fourth element (integer) to string\n",
        "str_element = str(my_list[3])\n",
        "print(f\"Converted fourth element (integer) to string: {str_element} (type: {type(str_element)})\")\n",
        "\n",
        "# Note: Type casting creates new objects; it does not modify the original list in place unless reassigned.\n",
        "print(f\"Original list after type casting demonstrations: {my_list}\")\n"
      ],
      "metadata": {
        "id": "B26AuoLavlIM",
        "colab": {
          "base_uri": "https://localhost:8080/"
        },
        "outputId": "d395ff61-725c-45b2-93e0-11ad54f6f502"
      },
      "execution_count": 5,
      "outputs": [
        {
          "output_type": "stream",
          "name": "stdout",
          "text": [
            "Original list: ['123', 45.67, 'True', 100]\n",
            "Converted first element to integer: 123 (type: <class 'int'>)\n",
            "Converted second element (float) to integer: 45 (type: <class 'int'>)\n",
            "Converted third element (string) to boolean: True (type: <class 'bool'>)\n",
            "Converted fourth element (integer) to string: 100 (type: <class 'str'>)\n",
            "Original list after type casting demonstrations: ['123', 45.67, 'True', 100]\n"
          ]
        }
      ]
    },
    {
      "cell_type": "markdown",
      "source": [
        "11. Write a program that checks if a number is positive, negative, or zero."
      ],
      "metadata": {
        "id": "vJgJXPQ5kdXI"
      }
    },
    {
      "cell_type": "code",
      "source": [
        "number = float(input(\"enter a number:\"))\n",
        "if number > 0:\n",
        "  print(f\"{number} is a positive number.\")\n",
        "elif number < 0:\n",
        "  print(f\"{number} is a negative number.\")\n",
        "else:\n",
        "  print(f\"{number} is zero.\")"
      ],
      "metadata": {
        "colab": {
          "base_uri": "https://localhost:8080/"
        },
        "id": "WkgJ6Im6kk-g",
        "outputId": "801877eb-7119-4dd9-b896-ad5d4d203254"
      },
      "execution_count": 6,
      "outputs": [
        {
          "output_type": "stream",
          "name": "stdout",
          "text": [
            "enter a number:12\n",
            "12.0 is a positive number.\n"
          ]
        }
      ]
    },
    {
      "cell_type": "markdown",
      "source": [
        "12. Write a for loop to print numbers from 1 to 10."
      ],
      "metadata": {
        "id": "dEn8fJYXlqpB"
      }
    },
    {
      "cell_type": "code",
      "source": [
        "for i in range(1, 11):\n",
        "  print(i)"
      ],
      "metadata": {
        "colab": {
          "base_uri": "https://localhost:8080/"
        },
        "id": "Af1CBJz7nPQw",
        "outputId": "91e0b43a-aa53-4578-923a-d619936bc5a1"
      },
      "execution_count": 9,
      "outputs": [
        {
          "output_type": "stream",
          "name": "stdout",
          "text": [
            "1\n",
            "2\n",
            "3\n",
            "4\n",
            "5\n",
            "6\n",
            "7\n",
            "8\n",
            "9\n",
            "10\n"
          ]
        }
      ]
    },
    {
      "cell_type": "markdown",
      "source": [
        "13. Write a Python program to find the sum of all even numbers between 1 and 50.\n",
        "\n"
      ],
      "metadata": {
        "id": "vQ303ENCnjvJ"
      }
    },
    {
      "cell_type": "code",
      "source": [
        "total_sum = 0\n",
        "for number in range(1, 51):\n",
        "  if number % 2 == 0:\n",
        "    total_sum += number\n",
        "\n",
        "    print(f\"The sum of all even numbers between 1 and 50 is: {total_sum}\")"
      ],
      "metadata": {
        "colab": {
          "base_uri": "https://localhost:8080/"
        },
        "id": "Fjng0joVnlva",
        "outputId": "0e018b86-e029-4c63-b40b-773257b66f8c"
      },
      "execution_count": 10,
      "outputs": [
        {
          "output_type": "stream",
          "name": "stdout",
          "text": [
            "The sum of all even numbers between 1 and 50 is: 2\n",
            "The sum of all even numbers between 1 and 50 is: 6\n",
            "The sum of all even numbers between 1 and 50 is: 12\n",
            "The sum of all even numbers between 1 and 50 is: 20\n",
            "The sum of all even numbers between 1 and 50 is: 30\n",
            "The sum of all even numbers between 1 and 50 is: 42\n",
            "The sum of all even numbers between 1 and 50 is: 56\n",
            "The sum of all even numbers between 1 and 50 is: 72\n",
            "The sum of all even numbers between 1 and 50 is: 90\n",
            "The sum of all even numbers between 1 and 50 is: 110\n",
            "The sum of all even numbers between 1 and 50 is: 132\n",
            "The sum of all even numbers between 1 and 50 is: 156\n",
            "The sum of all even numbers between 1 and 50 is: 182\n",
            "The sum of all even numbers between 1 and 50 is: 210\n",
            "The sum of all even numbers between 1 and 50 is: 240\n",
            "The sum of all even numbers between 1 and 50 is: 272\n",
            "The sum of all even numbers between 1 and 50 is: 306\n",
            "The sum of all even numbers between 1 and 50 is: 342\n",
            "The sum of all even numbers between 1 and 50 is: 380\n",
            "The sum of all even numbers between 1 and 50 is: 420\n",
            "The sum of all even numbers between 1 and 50 is: 462\n",
            "The sum of all even numbers between 1 and 50 is: 506\n",
            "The sum of all even numbers between 1 and 50 is: 552\n",
            "The sum of all even numbers between 1 and 50 is: 600\n",
            "The sum of all even numbers between 1 and 50 is: 650\n"
          ]
        }
      ]
    },
    {
      "cell_type": "markdown",
      "source": [
        "14. Write a program to reverse a string using a while loop.14. Write a program to reverse a string using a while loop."
      ],
      "metadata": {
        "id": "iRKDs06vphg6"
      }
    },
    {
      "cell_type": "code",
      "source": [
        "input_string = input(\"enter a string\")\n",
        "reversed_string = \"\"\n",
        "index = len(input_string) - 1\n",
        "\n",
        "while index >= 0:\n",
        "  reversed_string += input_string[index]\n",
        "  index -= 1\n",
        "\n",
        "print(f\"the reversed string is: {reversed_string}\")\n"
      ],
      "metadata": {
        "colab": {
          "base_uri": "https://localhost:8080/"
        },
        "id": "lhD6A6s-pisA",
        "outputId": "960b861f-bcab-4072-9ac3-08ce1c8e4a43"
      },
      "execution_count": 11,
      "outputs": [
        {
          "output_type": "stream",
          "name": "stdout",
          "text": [
            "enter a string aniket\n",
            "the reversed string is: tekina \n"
          ]
        }
      ]
    },
    {
      "cell_type": "markdown",
      "source": [
        "15. Write a Python program to calculate the factorial of a number provided by the user using a while loop."
      ],
      "metadata": {
        "id": "66i7GOZVqq_A"
      }
    },
    {
      "cell_type": "code",
      "source": [
        "num = int(input(\"enter a non-negative integer:\"))\n",
        "\n",
        "if num < 0:\n",
        "  print(\"factorial is not defined for negative numbers.\")\n",
        "elif num == 0:\n",
        "  print(\"the factorial of 0 is 1.\")\n",
        "else:\n",
        "  factorial = 1\n",
        "  i = 1\n",
        "  while i <= num:\n",
        "    factorial *= i\n",
        "    i += 1\n",
        "  print(f\"the factorial of {num} is {factorial}\")"
      ],
      "metadata": {
        "colab": {
          "base_uri": "https://localhost:8080/"
        },
        "id": "AzEQWFiKqt49",
        "outputId": "21759f58-9787-41cf-825f-9d222a7b659d"
      },
      "execution_count": 13,
      "outputs": [
        {
          "output_type": "stream",
          "name": "stdout",
          "text": [
            "enter a non-negative integer:  15\n",
            "the factorial of 15 is 1307674368000\n"
          ]
        }
      ]
    }
  ]
}